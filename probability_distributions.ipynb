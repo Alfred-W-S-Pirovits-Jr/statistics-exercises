{
 "cells": [
  {
   "cell_type": "code",
   "execution_count": 105,
   "id": "8e64346f",
   "metadata": {},
   "outputs": [],
   "source": [
    "import matplotlib.pyplot as plt\n",
    "import numpy as np\n",
    "import pandas as pd\n",
    "from scipy import stats\n",
    "\n"
   ]
  },
  {
   "cell_type": "markdown",
   "id": "c37138c0",
   "metadata": {},
   "source": [
    "1.  A bank found that the average number of cars waiting during the noon hour at a drive-up window follows a Poisson distribution with a mean of 2 cars. Make a chart of this distribution and answer these questions concerning the probability of cars waiting at the drive-up window."
   ]
  },
  {
   "cell_type": "markdown",
   "id": "4ea978d2",
   "metadata": {},
   "source": [
    "What is the probability that no cars drive up in the noon hour?"
   ]
  },
  {
   "cell_type": "code",
   "execution_count": 36,
   "id": "8d8c8fad",
   "metadata": {},
   "outputs": [],
   "source": [
    "λ = 2\n",
    "\n",
    "cars = stats.poisson(λ)"
   ]
  },
  {
   "cell_type": "markdown",
   "id": "f8ca1fdc",
   "metadata": {},
   "source": [
    "What is the probability that 3 or more cars come through the drive through?"
   ]
  },
  {
   "cell_type": "code",
   "execution_count": 37,
   "id": "944927a9",
   "metadata": {},
   "outputs": [
    {
     "data": {
      "text/plain": [
       "0.32332358381693654"
      ]
     },
     "execution_count": 37,
     "metadata": {},
     "output_type": "execute_result"
    }
   ],
   "source": [
    "cars.sf(2)"
   ]
  },
  {
   "cell_type": "markdown",
   "id": "5502dea9",
   "metadata": {},
   "source": [
    "How likely is it that the drive through gets at least 1 car?"
   ]
  },
  {
   "cell_type": "code",
   "execution_count": 5,
   "id": "acaba076",
   "metadata": {},
   "outputs": [
    {
     "data": {
      "text/plain": [
       "0.40600584970983794"
      ]
     },
     "execution_count": 5,
     "metadata": {},
     "output_type": "execute_result"
    }
   ],
   "source": [
    "cars.cdf(1)"
   ]
  },
  {
   "cell_type": "markdown",
   "id": "d4db4c1b",
   "metadata": {},
   "source": [
    "2.  Grades of State University graduates are normally distributed with a mean of 3.0 and a standard deviation of .3. Calculate the following:"
   ]
  },
  {
   "cell_type": "code",
   "execution_count": 39,
   "id": "71f80b24",
   "metadata": {},
   "outputs": [],
   "source": [
    "μ = 3.0\n",
    "σ = .3\n",
    "\n",
    "gpa = stats.norm(μ, σ)"
   ]
  },
  {
   "cell_type": "markdown",
   "id": "79ca33a8",
   "metadata": {},
   "source": [
    "What grade point average is required to be in the top 5% of the graduating class?"
   ]
  },
  {
   "cell_type": "code",
   "execution_count": 40,
   "id": "5cdf4308",
   "metadata": {},
   "outputs": [
    {
     "data": {
      "text/plain": [
       "3.4934560880854417"
      ]
     },
     "execution_count": 40,
     "metadata": {},
     "output_type": "execute_result"
    }
   ],
   "source": [
    "gpa.ppf(.95)"
   ]
  },
  {
   "cell_type": "code",
   "execution_count": 41,
   "id": "a8e44e83",
   "metadata": {},
   "outputs": [
    {
     "data": {
      "text/plain": [
       "3.4934560880854417"
      ]
     },
     "execution_count": 41,
     "metadata": {},
     "output_type": "execute_result"
    }
   ],
   "source": [
    "gpa.isf(.05)"
   ]
  },
  {
   "cell_type": "markdown",
   "id": "bf9129f6",
   "metadata": {},
   "source": [
    "What GPA constitutes the bottom 15% of the class?"
   ]
  },
  {
   "cell_type": "code",
   "execution_count": 42,
   "id": "6ceb6f1c",
   "metadata": {},
   "outputs": [
    {
     "data": {
      "text/plain": [
       "2.689069983151863"
      ]
     },
     "execution_count": 42,
     "metadata": {},
     "output_type": "execute_result"
    }
   ],
   "source": [
    "gpa.ppf(.15)"
   ]
  },
  {
   "cell_type": "code",
   "execution_count": 43,
   "id": "855026cf",
   "metadata": {},
   "outputs": [
    {
     "data": {
      "text/plain": [
       "2.689069983151863"
      ]
     },
     "execution_count": 43,
     "metadata": {},
     "output_type": "execute_result"
    }
   ],
   "source": [
    "gpa.isf(.85)"
   ]
  },
  {
   "cell_type": "markdown",
   "id": "12c006ca",
   "metadata": {},
   "source": [
    "An eccentric alumnus left scholarship money for students in the third decile from the bottom of their class. Determine the range of the third decile. Would a student with a 2.8 grade point average qualify for this scholarship?\n"
   ]
  },
  {
   "cell_type": "code",
   "execution_count": 44,
   "id": "3a3e68e4",
   "metadata": {},
   "outputs": [
    {
     "data": {
      "text/plain": [
       "2.7475136299281258"
      ]
     },
     "execution_count": 44,
     "metadata": {},
     "output_type": "execute_result"
    }
   ],
   "source": [
    "gpa.ppf(.2)"
   ]
  },
  {
   "cell_type": "code",
   "execution_count": 45,
   "id": "db0b0d0c",
   "metadata": {},
   "outputs": [
    {
     "data": {
      "text/plain": [
       "2.842679846187588"
      ]
     },
     "execution_count": 45,
     "metadata": {},
     "output_type": "execute_result"
    }
   ],
   "source": [
    "gpa.ppf(.3)"
   ]
  },
  {
   "cell_type": "markdown",
   "id": "c918d3cf",
   "metadata": {},
   "source": [
    "The GPA range is 2.748 - 2.843"
   ]
  },
  {
   "cell_type": "markdown",
   "id": "797694b3",
   "metadata": {},
   "source": [
    "A 2.8 GPA student would qualify!"
   ]
  },
  {
   "cell_type": "markdown",
   "id": "077b44d1",
   "metadata": {},
   "source": [
    "If I have a GPA of 3.5, what percentile am I in?"
   ]
  },
  {
   "cell_type": "code",
   "execution_count": 46,
   "id": "db516347",
   "metadata": {},
   "outputs": [
    {
     "data": {
      "text/plain": [
       "0.9522096477271853"
      ]
     },
     "execution_count": 46,
     "metadata": {},
     "output_type": "execute_result"
    }
   ],
   "source": [
    "gpa.cdf(3.5)"
   ]
  },
  {
   "cell_type": "markdown",
   "id": "dd95bf09",
   "metadata": {},
   "source": [
    "3.  A marketing website has an average click-through rate of 2%. One day they observe 4326 visitors and 97 click-throughs. How likely is it that this many people or more click through?"
   ]
  },
  {
   "cell_type": "code",
   "execution_count": 47,
   "id": "9429ad43",
   "metadata": {},
   "outputs": [],
   "source": [
    "click = stats.binom(4326, .02)"
   ]
  },
  {
   "cell_type": "code",
   "execution_count": 31,
   "id": "15ad2968",
   "metadata": {},
   "outputs": [
    {
     "data": {
      "text/plain": [
       "0.13975823631416445"
      ]
     },
     "execution_count": 31,
     "metadata": {},
     "output_type": "execute_result"
    }
   ],
   "source": [
    "click.sf(96)"
   ]
  },
  {
   "cell_type": "markdown",
   "id": "df7be734",
   "metadata": {},
   "source": [
    "4.  You are working on some statistics homework consisting of 100 questions where all of the answers are a probability rounded to the hundreths place. Looking to save time, you put down random probabilities as the answer to each question.\n",
    "\n",
    "What is the probability that at least one of your first 60 answers is correct?"
   ]
  },
  {
   "cell_type": "code",
   "execution_count": 34,
   "id": "92549c59",
   "metadata": {},
   "outputs": [
    {
     "data": {
      "text/plain": [
       "<scipy.stats._distn_infrastructure.rv_discrete_frozen at 0x7fc90dc9c910>"
      ]
     },
     "execution_count": 34,
     "metadata": {},
     "output_type": "execute_result"
    }
   ],
   "source": [
    "hw_distribution = stats.binom(60, .01)\n",
    "hw_distribution\n"
   ]
  },
  {
   "cell_type": "code",
   "execution_count": 35,
   "id": "1d97328d",
   "metadata": {},
   "outputs": [
    {
     "data": {
      "text/plain": [
       "0.45284335760923855"
      ]
     },
     "execution_count": 35,
     "metadata": {},
     "output_type": "execute_result"
    }
   ],
   "source": [
    "hw_distribution.sf(0)"
   ]
  },
  {
   "cell_type": "markdown",
   "id": "dbb016b2",
   "metadata": {},
   "source": [
    "5. The codeup staff tends to get upset when the student break area is not cleaned up. Suppose that there's a 3% chance that any one student cleans the break area when they visit it, and, on any given day, about 90% of the 3 active cohorts of 22 students visit the break area. How likely is it that the break area gets cleaned up each day? How likely is it that it goes two days without getting cleaned up? All week?"
   ]
  },
  {
   "cell_type": "code",
   "execution_count": 66,
   "id": "cbe81451",
   "metadata": {},
   "outputs": [],
   "source": [
    "clean = stats.binom(60, .03)\n",
    "# students = stats.poisson()"
   ]
  },
  {
   "cell_type": "code",
   "execution_count": 65,
   "id": "a0ebe4f0",
   "metadata": {},
   "outputs": [
    {
     "data": {
      "text/plain": [
       "0.8342199288437352"
      ]
     },
     "execution_count": 65,
     "metadata": {},
     "output_type": "execute_result"
    }
   ],
   "source": [
    "clean.sf(0)"
   ]
  },
  {
   "cell_type": "code",
   "execution_count": 89,
   "id": "a7a54404",
   "metadata": {},
   "outputs": [
    {
     "data": {
      "text/plain": [
       "0.026658541032798848"
      ]
     },
     "execution_count": 89,
     "metadata": {},
     "output_type": "execute_result"
    }
   ],
   "source": [
    "two_days_clean = stats.binom(119, 0.03)\n",
    "two_days_clean.pmf(0)"
   ]
  },
  {
   "cell_type": "code",
   "execution_count": 86,
   "id": "0c4239bc",
   "metadata": {},
   "outputs": [
    {
     "data": {
      "text/plain": [
       "0.00011781621791055051"
      ]
     },
     "execution_count": 86,
     "metadata": {},
     "output_type": "execute_result"
    }
   ],
   "source": [
    "all_week = stats.binom(297, 0.03)\n",
    "all_week.pmf(0)"
   ]
  },
  {
   "cell_type": "code",
   "execution_count": null,
   "id": "9a61cf59",
   "metadata": {},
   "outputs": [],
   "source": []
  },
  {
   "cell_type": "markdown",
   "id": "7ecfda84",
   "metadata": {},
   "source": [
    "6. You want to get lunch at La Panaderia, but notice that the line is usually very long at lunchtime. After several weeks of careful observation, you notice that the average number of people in line when your lunch break starts is normally distributed with a mean of 15 and standard deviation of 3. If it takes 2 minutes for each person to order, and 10 minutes from ordering to getting your food, what is the likelihood that you have at least 15 minutes left to eat your food before you have to go back to class? Assume you have one hour for lunch, and ignore travel time to and from La Panaderia."
   ]
  },
  {
   "cell_type": "code",
   "execution_count": 100,
   "id": "8e20bd32",
   "metadata": {},
   "outputs": [
    {
     "data": {
      "text/plain": [
       "0.6914624612740131"
      ]
     },
     "execution_count": 100,
     "metadata": {},
     "output_type": "execute_result"
    }
   ],
   "source": [
    "lunch = stats.norm(15, 3)\n",
    "#Assuming one hour lunch\n",
    "#2x+10 must be less than 45 in order to have time to eat so x must be less than 17.5\n",
    "lunch.cdf(16.5)\n",
    "#we have a 69.146 percent chance we'll be able to finish lunch"
   ]
  },
  {
   "cell_type": "code",
   "execution_count": 101,
   "id": "8c5c1e2c",
   "metadata": {},
   "outputs": [
    {
     "data": {
      "text/plain": [
       "0.6914624612740131"
      ]
     },
     "execution_count": 101,
     "metadata": {},
     "output_type": "execute_result"
    }
   ],
   "source": [
    "minutes = stats.norm(30, 6)\n",
    "minutes.cdf(33)"
   ]
  },
  {
   "cell_type": "markdown",
   "id": "db7ae5a8",
   "metadata": {},
   "source": [
    "7.  Connect to the employees database and find the average salary of current employees, along with the standard deviation. For the following questions, calculate the answer based on modeling the employees salaries with a normal distribution defined by the calculated mean and standard deviation then compare this answer to the actual values present in the salaries dataset."
   ]
  },
  {
   "cell_type": "code",
   "execution_count": 113,
   "id": "742cbb11",
   "metadata": {},
   "outputs": [],
   "source": [
    "from env import get_db_url\n",
    "\n",
    "\n",
    "\n",
    "query = '''\n",
    "SELECT salary\n",
    "FROM salaries\n",
    "WHERE to_date > curdate(); \n",
    "\n",
    "'''\n",
    "\n",
    "salaries = pd.read_sql(query, get_db_url('employees'))"
   ]
  },
  {
   "cell_type": "code",
   "execution_count": 115,
   "id": "e8750557",
   "metadata": {},
   "outputs": [
    {
     "data": {
      "text/html": [
       "<div>\n",
       "<style scoped>\n",
       "    .dataframe tbody tr th:only-of-type {\n",
       "        vertical-align: middle;\n",
       "    }\n",
       "\n",
       "    .dataframe tbody tr th {\n",
       "        vertical-align: top;\n",
       "    }\n",
       "\n",
       "    .dataframe thead th {\n",
       "        text-align: right;\n",
       "    }\n",
       "</style>\n",
       "<table border=\"1\" class=\"dataframe\">\n",
       "  <thead>\n",
       "    <tr style=\"text-align: right;\">\n",
       "      <th></th>\n",
       "      <th>salary</th>\n",
       "    </tr>\n",
       "  </thead>\n",
       "  <tbody>\n",
       "    <tr>\n",
       "      <th>count</th>\n",
       "      <td>240124.000000</td>\n",
       "    </tr>\n",
       "    <tr>\n",
       "      <th>mean</th>\n",
       "      <td>72012.235857</td>\n",
       "    </tr>\n",
       "    <tr>\n",
       "      <th>std</th>\n",
       "      <td>17309.995380</td>\n",
       "    </tr>\n",
       "    <tr>\n",
       "      <th>min</th>\n",
       "      <td>38623.000000</td>\n",
       "    </tr>\n",
       "    <tr>\n",
       "      <th>25%</th>\n",
       "      <td>59048.750000</td>\n",
       "    </tr>\n",
       "    <tr>\n",
       "      <th>50%</th>\n",
       "      <td>69805.000000</td>\n",
       "    </tr>\n",
       "    <tr>\n",
       "      <th>75%</th>\n",
       "      <td>82546.000000</td>\n",
       "    </tr>\n",
       "    <tr>\n",
       "      <th>max</th>\n",
       "      <td>158220.000000</td>\n",
       "    </tr>\n",
       "  </tbody>\n",
       "</table>\n",
       "</div>"
      ],
      "text/plain": [
       "              salary\n",
       "count  240124.000000\n",
       "mean    72012.235857\n",
       "std     17309.995380\n",
       "min     38623.000000\n",
       "25%     59048.750000\n",
       "50%     69805.000000\n",
       "75%     82546.000000\n",
       "max    158220.000000"
      ]
     },
     "execution_count": 115,
     "metadata": {},
     "output_type": "execute_result"
    }
   ],
   "source": [
    "salaries.describe()"
   ]
  },
  {
   "cell_type": "markdown",
   "id": "748d2405",
   "metadata": {},
   "source": [
    "What percent of employees earn less than 60,000?"
   ]
  },
  {
   "cell_type": "code",
   "execution_count": 116,
   "id": "3c7dab4b",
   "metadata": {},
   "outputs": [],
   "source": [
    "sal = stats.norm(72012.235857, 17309.995380)"
   ]
  },
  {
   "cell_type": "code",
   "execution_count": 117,
   "id": "4ae2e80b",
   "metadata": {},
   "outputs": [
    {
     "data": {
      "text/plain": [
       "0.2438574248045388"
      ]
     },
     "execution_count": 117,
     "metadata": {},
     "output_type": "execute_result"
    }
   ],
   "source": [
    "sal.cdf(60000)"
   ]
  },
  {
   "cell_type": "markdown",
   "id": "5c6c5e38",
   "metadata": {},
   "source": [
    "What percent of employees earn more than 95,000?"
   ]
  },
  {
   "cell_type": "code",
   "execution_count": 118,
   "id": "57b3ad13",
   "metadata": {},
   "outputs": [
    {
     "data": {
      "text/plain": [
       "0.0920882874148749"
      ]
     },
     "execution_count": 118,
     "metadata": {},
     "output_type": "execute_result"
    }
   ],
   "source": [
    "sal.sf(94999.99)"
   ]
  },
  {
   "cell_type": "markdown",
   "id": "7cac2ad0",
   "metadata": {},
   "source": [
    "What percent of employees earn between 65,000 and 80,000?"
   ]
  },
  {
   "cell_type": "code",
   "execution_count": 120,
   "id": "7fe0a249",
   "metadata": {},
   "outputs": [
    {
     "data": {
      "text/plain": [
       "0.33506056854908584"
      ]
     },
     "execution_count": 120,
     "metadata": {},
     "output_type": "execute_result"
    }
   ],
   "source": [
    "sal.cdf(80000)-sal.cdf(65000)"
   ]
  },
  {
   "cell_type": "code",
   "execution_count": 123,
   "id": "76256fa0",
   "metadata": {},
   "outputs": [
    {
     "data": {
      "text/plain": [
       "array([0.33506057])"
      ]
     },
     "execution_count": 123,
     "metadata": {},
     "output_type": "execute_result"
    }
   ],
   "source": [
    "np.diff(sal.cdf([65000, 80000]))"
   ]
  },
  {
   "cell_type": "markdown",
   "id": "ecd87985",
   "metadata": {},
   "source": [
    "What do the top 5% of employees make?"
   ]
  },
  {
   "cell_type": "code",
   "execution_count": 125,
   "id": "b5f80ef8",
   "metadata": {},
   "outputs": [
    {
     "data": {
      "text/plain": [
       "100484.64454030624"
      ]
     },
     "execution_count": 125,
     "metadata": {},
     "output_type": "execute_result"
    }
   ],
   "source": [
    "sal.isf(.05)"
   ]
  },
  {
   "cell_type": "markdown",
   "id": "c51a4c08",
   "metadata": {},
   "source": [
    "Hint If you're looking at this exercise and wondering \"How do I get pandas to talk the database, again?\", remember that you'll need 3 things: your .gitignore, your env.py, and to use pd.read_sql. Copy over your .gitignore and env.py from your data science libraries exercises folder, and connect to the employees database like so:"
   ]
  },
  {
   "cell_type": "code",
   "execution_count": null,
   "id": "50cb8c2d",
   "metadata": {},
   "outputs": [],
   "source": []
  },
  {
   "cell_type": "code",
   "execution_count": null,
   "id": "56bbd318",
   "metadata": {},
   "outputs": [],
   "source": []
  }
 ],
 "metadata": {
  "kernelspec": {
   "display_name": "Python 3 (ipykernel)",
   "language": "python",
   "name": "python3"
  },
  "language_info": {
   "codemirror_mode": {
    "name": "ipython",
    "version": 3
   },
   "file_extension": ".py",
   "mimetype": "text/x-python",
   "name": "python",
   "nbconvert_exporter": "python",
   "pygments_lexer": "ipython3",
   "version": "3.10.9"
  }
 },
 "nbformat": 4,
 "nbformat_minor": 5
}

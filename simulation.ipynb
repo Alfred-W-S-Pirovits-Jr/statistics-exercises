{
 "cells": [
  {
   "cell_type": "code",
   "execution_count": 225,
   "id": "3d7b8c66",
   "metadata": {},
   "outputs": [],
   "source": [
    "import numpy as np\n",
    "import pandas as pd"
   ]
  },
  {
   "cell_type": "code",
   "execution_count": null,
   "id": "c30200b0",
   "metadata": {},
   "outputs": [],
   "source": [
    "1.  How likely is it that you roll doubles when rolling two dice?"
   ]
  },
  {
   "cell_type": "code",
   "execution_count": 500,
   "id": "c7521609",
   "metadata": {},
   "outputs": [
    {
     "data": {
      "text/plain": [
       "0.1647"
      ]
     },
     "execution_count": 500,
     "metadata": {},
     "output_type": "execute_result"
    }
   ],
   "source": [
    "die_outcomes = [1, 2, 3, 4, 5, 6]\n",
    "\n",
    "n_dice = 2\n",
    "n_simulations = 100000\n",
    "\n",
    "equals_list = []\n",
    "rolls = np.random.choice(die_outcomes, (n_simulations, n_dice))\n",
    "\n",
    "for roll in rolls:\n",
    "    if roll[0] == roll[1]:\n",
    "        equals_list.append(1)\n",
    "    else:\n",
    "        equals_list.append(0)\n",
    "    \n",
    "doubles = sum(equals_list)/n_simulations\n",
    "doubles"
   ]
  },
  {
   "cell_type": "code",
   "execution_count": 501,
   "id": "b4eba808",
   "metadata": {},
   "outputs": [],
   "source": [
    "# def doubles():  I tried to vectorize a function\n",
    "#     for roll in rolls:\n",
    "#         for i in rolls:\n",
    "#             if rolls.i[0] == i[1]:\n",
    "#                 return True\n",
    "#             else:\n",
    "#                 return False\n",
    "\n",
    "# rolls.apply(doubles(), axis=1)"
   ]
  },
  {
   "cell_type": "markdown",
   "id": "3b997b8e",
   "metadata": {},
   "source": [
    "2.  If you flip 8 coins, what is the probability of getting exactly 3 heads? What is the probability of getting more than 3 heads?"
   ]
  },
  {
   "cell_type": "code",
   "execution_count": 502,
   "id": "72b21060",
   "metadata": {},
   "outputs": [
    {
     "data": {
      "text/plain": [
       "array([['T', 'T', 'T', ..., 'H', 'H', 'T'],\n",
       "       ['T', 'T', 'H', ..., 'H', 'H', 'H'],\n",
       "       ['T', 'H', 'H', ..., 'H', 'T', 'H'],\n",
       "       ...,\n",
       "       ['T', 'H', 'H', ..., 'H', 'H', 'H'],\n",
       "       ['H', 'H', 'H', ..., 'H', 'T', 'H'],\n",
       "       ['T', 'H', 'T', ..., 'H', 'T', 'T']], dtype='<U1')"
      ]
     },
     "execution_count": 502,
     "metadata": {},
     "output_type": "execute_result"
    }
   ],
   "source": [
    "coin_outcomes = ['H', 'T']\n",
    "\n",
    "n_trials = 8\n",
    "n_simulations = 100000\n",
    "\n",
    "eight_flips = np.random.choice(coin_outcomes, (n_simulations, n_trials))\n",
    "eight_flips"
   ]
  },
  {
   "cell_type": "code",
   "execution_count": 503,
   "id": "b59ce127",
   "metadata": {},
   "outputs": [
    {
     "data": {
      "text/plain": [
       "0.21865"
      ]
     },
     "execution_count": 503,
     "metadata": {},
     "output_type": "execute_result"
    }
   ],
   "source": [
    "n_heads = (eight_flips == 'H').sum(axis=1)\n",
    "(n_heads == 3).mean()"
   ]
  },
  {
   "cell_type": "code",
   "execution_count": 504,
   "id": "6743341b",
   "metadata": {},
   "outputs": [
    {
     "data": {
      "text/plain": [
       "0.85486"
      ]
     },
     "execution_count": 504,
     "metadata": {},
     "output_type": "execute_result"
    }
   ],
   "source": [
    "(n_heads >= 3).mean()"
   ]
  },
  {
   "cell_type": "markdown",
   "id": "d3cfe82b",
   "metadata": {},
   "source": [
    "3.  There are approximitely 3 web development cohorts for every 1 data science cohort at Codeup. Assuming that Codeup randomly selects an alumni to put on a billboard, what are the odds that the two billboards I drive past both have data science students on them?"
   ]
  },
  {
   "cell_type": "code",
   "execution_count": 505,
   "id": "3c63060e",
   "metadata": {},
   "outputs": [
    {
     "data": {
      "text/plain": [
       "array([['WD', 'DS'],\n",
       "       ['WD', 'WD'],\n",
       "       ['WD', 'WD'],\n",
       "       ...,\n",
       "       ['WD', 'WD'],\n",
       "       ['DS', 'WD'],\n",
       "       ['WD', 'WD']], dtype='<U2')"
      ]
     },
     "execution_count": 505,
     "metadata": {},
     "output_type": "execute_result"
    }
   ],
   "source": [
    "billboard_outcomes = ['DS', 'WD']\n",
    "outcome_probabilities = [.25, .75]\n",
    "\n",
    "n_billboards = 2\n",
    "n_simulations = 100000\n",
    "whose_face = np.random.choice(billboard_outcomes, (n_simulations, n_billboards), p = outcome_probabilities)\n",
    "whose_face"
   ]
  },
  {
   "cell_type": "code",
   "execution_count": 506,
   "id": "9a244d98",
   "metadata": {},
   "outputs": [
    {
     "data": {
      "text/plain": [
       "array([1, 0, 0, ..., 0, 1, 0])"
      ]
     },
     "execution_count": 506,
     "metadata": {},
     "output_type": "execute_result"
    }
   ],
   "source": [
    "data_science = (whose_face == 'DS').sum(axis=1)\n",
    "data_science"
   ]
  },
  {
   "cell_type": "code",
   "execution_count": 44,
   "id": "db953dc8",
   "metadata": {},
   "outputs": [
    {
     "data": {
      "text/plain": [
       "0.06288"
      ]
     },
     "execution_count": 44,
     "metadata": {},
     "output_type": "execute_result"
    }
   ],
   "source": [
    "(data_science == 2).mean()"
   ]
  },
  {
   "cell_type": "markdown",
   "id": "5beca04b",
   "metadata": {},
   "source": [
    "4. Codeup students buy, on average, 3 poptart packages with a standard deviation of 1.5 a day from the snack vending machine. If on monday the machine is restocked with 17 poptart packages, how likely is it that I will be able to buy some poptarts on Friday afternoon? (Remember, if you have mean and standard deviation, use the np.random.normal) You'll need to make a judgement call on how to handle some of your values"
   ]
  },
  {
   "cell_type": "code",
   "execution_count": 175,
   "id": "186036a0",
   "metadata": {},
   "outputs": [
    {
     "data": {
      "text/plain": [
       "array([[4.81677327, 4.12129586, 2.54628636, 2.09845901, 2.04564672],\n",
       "       [3.53995133, 2.20608336, 1.25460265, 4.0032354 , 3.35550636],\n",
       "       [4.86197932, 5.88097925, 1.90779617, 2.33934823, 4.0801409 ],\n",
       "       ...,\n",
       "       [4.51440919, 3.0573304 , 2.25610844, 1.47807864, 1.95330572],\n",
       "       [1.69165209, 4.40792671, 2.09727388, 3.77303195, 3.01052273],\n",
       "       [3.60275305, 2.65837125, 4.03106243, 3.63907162, 4.72937841]])"
      ]
     },
     "execution_count": 175,
     "metadata": {},
     "output_type": "execute_result"
    }
   ],
   "source": [
    "pop_tart_usage_per_week = np.random.normal(3, 1.5, (n_simulations, 5))\n",
    "n_simulations = 100000\n",
    "pop_tart_usage_per_week"
   ]
  },
  {
   "cell_type": "code",
   "execution_count": 177,
   "id": "d537ab90",
   "metadata": {},
   "outputs": [
    {
     "data": {
      "text/plain": [
       "0.61773"
      ]
     },
     "execution_count": 177,
     "metadata": {},
     "output_type": "execute_result"
    }
   ],
   "source": [
    "(pop_tart_usage_per_week.sum(axis=1) <= 16).mean()"
   ]
  },
  {
   "cell_type": "markdown",
   "id": "aa88d419",
   "metadata": {},
   "source": [
    "5.  Men have an average height of 178 cm and standard deviation of 8cm.\n",
    "Women have a mean of 170, sd = 6cm.\n",
    "Since you have means and standard deviations, you can use np.random.normal to generate observations.\n",
    "If a man and woman are chosen at random, what is the likelihood the woman is taller than the man?\n"
   ]
  },
  {
   "cell_type": "code",
   "execution_count": 191,
   "id": "52318730",
   "metadata": {},
   "outputs": [
    {
     "data": {
      "text/plain": [
       "0.21187"
      ]
     },
     "execution_count": 191,
     "metadata": {},
     "output_type": "execute_result"
    }
   ],
   "source": [
    "n_simulations = 100000\n",
    "men_height = np.random.normal(178, 8, n_simulations)\n",
    "women_height = np.random.normal(170, 6, n_simulations)\n",
    "\n",
    "count = 0\n",
    "i = 0\n",
    "for i in range(n_simulations):\n",
    "    if women_height[i] > men_height[i]:\n",
    "        count += 1\n",
    "        i += 1\n",
    "    else:\n",
    "        i += 1\n",
    "count\n",
    "\n",
    "chances_woman_is_taller = count / n_simulations\n",
    "chances_woman_is_taller"
   ]
  },
  {
   "cell_type": "markdown",
   "id": "585742a3",
   "metadata": {},
   "source": [
    "6.  When installing anaconda on a student's computer, there's a 1 in 250 chance that the download is corrupted and the installation fails5. What are the odds that after having 50 students download anaconda, no one has an installation issue? 100 students?"
   ]
  },
  {
   "cell_type": "code",
   "execution_count": 106,
   "id": "00a97bc6",
   "metadata": {},
   "outputs": [
    {
     "data": {
      "text/plain": [
       "array([[False, False, False, ..., False, False, False],\n",
       "       [False, False, False, ..., False, False, False],\n",
       "       [False, False, False, ..., False, False, False],\n",
       "       ...,\n",
       "       [False, False, False, ..., False, False, False],\n",
       "       [False, False, False, ..., False, False, False],\n",
       "       [False, False, False, ..., False, False, False]])"
      ]
     },
     "execution_count": 106,
     "metadata": {},
     "output_type": "execute_result"
    }
   ],
   "source": [
    "failure = [False, True]\n",
    "chances = [249/250, 1/250]\n",
    "n_installations = 50\n",
    "n_simulations = 100000\n",
    "fifty_installations = np.random.choice(failure, (n_simulations, n_installations), p = chances)\n",
    "fifty_installations"
   ]
  },
  {
   "cell_type": "code",
   "execution_count": 119,
   "id": "f639a192",
   "metadata": {},
   "outputs": [
    {
     "data": {
      "text/plain": [
       "0.81842"
      ]
     },
     "execution_count": 119,
     "metadata": {},
     "output_type": "execute_result"
    }
   ],
   "source": [
    "(fifty_installations.sum(axis=1) == 0).mean()"
   ]
  },
  {
   "cell_type": "code",
   "execution_count": 120,
   "id": "775547d7",
   "metadata": {},
   "outputs": [
    {
     "data": {
      "text/plain": [
       "0.67195"
      ]
     },
     "execution_count": 120,
     "metadata": {},
     "output_type": "execute_result"
    }
   ],
   "source": [
    "n_installations = 100\n",
    "one_hundred_installations = np.random.choice(failure, (n_simulations, n_installations), p = chances)\n",
    "(one_hundred_installations.sum(axis=1) == 0).mean()"
   ]
  },
  {
   "cell_type": "markdown",
   "id": "7a62ce30",
   "metadata": {},
   "source": [
    "What is the probability that we observe an installation issue within the first 150 students that download anaconda?"
   ]
  },
  {
   "cell_type": "markdown",
   "id": "3090f546",
   "metadata": {},
   "source": [
    "probability that we observe an installation issue within the first 150 students equals\n",
    "\n",
    "1 - the probability that there are no issues"
   ]
  },
  {
   "cell_type": "code",
   "execution_count": 174,
   "id": "2efd30ae",
   "metadata": {},
   "outputs": [
    {
     "data": {
      "text/plain": [
       "0.45324"
      ]
     },
     "execution_count": 174,
     "metadata": {},
     "output_type": "execute_result"
    }
   ],
   "source": [
    "n_installations = 150\n",
    "one_hundred_fifty_installations = np.random.choice(failure, (n_simulations, n_installations), p=chances)\n",
    "issue = 1 - (one_hundred_fifty_installations.sum(axis=1) == 0).mean()\n",
    "issue"
   ]
  },
  {
   "cell_type": "markdown",
   "id": "fde7dd39",
   "metadata": {},
   "source": [
    "How likely is it that 450 students all download anaconda without an issue?"
   ]
  },
  {
   "cell_type": "code",
   "execution_count": 122,
   "id": "db22fbb1",
   "metadata": {},
   "outputs": [
    {
     "data": {
      "text/plain": [
       "0.16606"
      ]
     },
     "execution_count": 122,
     "metadata": {},
     "output_type": "execute_result"
    }
   ],
   "source": [
    "n_installations = 450\n",
    "four_hundred_fifty_installations = np.random.choice(failure, (n_simulations, n_installations), p = chances)\n",
    "(four_hundred_fifty_installations.sum(axis=1) == 0).mean()"
   ]
  },
  {
   "cell_type": "code",
   "execution_count": null,
   "id": "2225f7fd",
   "metadata": {},
   "outputs": [],
   "source": [
    "There's a 70% chance on any given day that there will be at least one food truck at Travis Park. However, you haven't seen a food truck there in 3 days. How unlikely is this?"
   ]
  },
  {
   "cell_type": "code",
   "execution_count": 157,
   "id": "4a1d86bb",
   "metadata": {},
   "outputs": [
    {
     "data": {
      "text/plain": [
       "0.02668"
      ]
     },
     "execution_count": 157,
     "metadata": {},
     "output_type": "execute_result"
    }
   ],
   "source": [
    "food_truck = [True, False]\n",
    "probability = [.7, .3]\n",
    "\n",
    "days = 3\n",
    "n_simulations = 100000\n",
    "\n",
    "im_hungry = np.random.choice(food_truck, (n_simulations, days), p = probability)\n",
    "(im_hungry.sum(axis=1) == 0).mean()"
   ]
  },
  {
   "cell_type": "code",
   "execution_count": 143,
   "id": "67347da8",
   "metadata": {},
   "outputs": [
    {
     "name": "stdout",
     "output_type": "stream",
     "text": [
      "Object `week` not found.\n"
     ]
    }
   ],
   "source": [
    "How likely is it that a food truck will show up sometime this week?"
   ]
  },
  {
   "cell_type": "code",
   "execution_count": 162,
   "id": "833e1ca0",
   "metadata": {},
   "outputs": [
    {
     "data": {
      "text/plain": [
       "0.99979"
      ]
     },
     "execution_count": 162,
     "metadata": {},
     "output_type": "execute_result"
    }
   ],
   "source": [
    "days = 7\n",
    "\n",
    "im_hungry = np.random.choice(food_truck, (n_simulations, days), p = probability)\n",
    "(im_hungry.sum(axis=1) == 0).mean() #will spit out probabiliy that trucks will not show all week\n",
    "im_not_hungry = 1 - (im_hungry.sum(axis=1) == 0).mean()\n",
    "im_not_hungry"
   ]
  },
  {
   "cell_type": "code",
   "execution_count": 156,
   "id": "1a43fc96",
   "metadata": {},
   "outputs": [
    {
     "ename": "SyntaxError",
     "evalue": "unterminated string literal (detected at line 1) (2650225207.py, line 1)",
     "output_type": "error",
     "traceback": [
      "\u001b[0;36m  Cell \u001b[0;32mIn[156], line 1\u001b[0;36m\u001b[0m\n\u001b[0;31m    If 23 people are in the same room, what are the odds that two of them share a birthday? What if it's 20 people? 40?\u001b[0m\n\u001b[0m                                                                                                      ^\u001b[0m\n\u001b[0;31mSyntaxError\u001b[0m\u001b[0;31m:\u001b[0m unterminated string literal (detected at line 1)\n"
     ]
    }
   ],
   "source": [
    "If 23 people are in the same room, what are the odds that two of them share a birthday? What if it's 20 people? 40?"
   ]
  },
  {
   "cell_type": "code",
   "execution_count": 355,
   "id": "ba13a8fa",
   "metadata": {},
   "outputs": [
    {
     "data": {
      "text/plain": [
       "0.507511"
      ]
     },
     "execution_count": 355,
     "metadata": {},
     "output_type": "execute_result"
    }
   ],
   "source": [
    "n = 23\n",
    "n_simulations = 1000000\n",
    "birthdays = list(range(0, 365))\n",
    "probabilities = [1/365 for birthday in birthdays]\n",
    "\n",
    "list_of_possible_classes = np.random.choice(birthdays, (n_simulations, n), p = probabilities)\n",
    "list_of_possible_classes_df = pd.DataFrame(list_of_possible_classes)\n",
    "\n",
    "(list_of_possible_classes_df.nunique(axis=1) != 23).mean()\n",
    "\n",
    "\n",
    "\n",
    "\n"
   ]
  },
  {
   "cell_type": "code",
   "execution_count": 470,
   "id": "2f3a0124",
   "metadata": {},
   "outputs": [],
   "source": [
    "# The wizard will win with an expected value of each roll being 2.5 times 6 rolls giving an expected value of 15\n",
    "# while the mage has 4 rolls with an expected value of 3.5 giving a total expected value of 14\n",
    "def duel(number) -> 'type in the number of simulations you want':\n",
    "    n_simulations = number\n",
    "    # wizard rolls 6d4 or six 4 sided dice\n",
    "    wizard_list = [1, 2, 3, 4]\n",
    "    n_wizard_rolls = 6\n",
    "    # mage rolls 4d6 or 4 six sided dice\n",
    "    mage_list = [1, 2, 3, 4, 5, 6]\n",
    "    n_mage_rolls = 4\n",
    "\n",
    "    wizard_sum = np.random.choice(wizard_list, (n_simulations, n_wizard_rolls)).sum(axis=1)\n",
    "    mage_sum = np.random.choice(wizard_list, (n_simulations, n_wizard_rolls)).sum(axis=1)\n",
    "\n",
    "    wizard_win_count = 0\n",
    "    mage_win_count = 0\n",
    "    tie_count = 0\n",
    "    i=0\n",
    "    for _ in range(n_simulations):\n",
    "        if wizard_sum[_] > mage_sum[_]:\n",
    "            wizard_win_count += 1\n",
    "        elif mage_sum[_] > wizard_sum[_]:\n",
    "            mage_win_count += 1\n",
    "        else:\n",
    "            tie_count += 1\n",
    "        \n",
    "    print(f'The wizard wins {wizard_win_count/n_simulations * 100} percent of the time')\n",
    "    print(f'The mage wins {mage_win_count/n_simulations * 100} percent of the time')\n",
    "    print(f'They tie {tie_count/n_simulations} percent of the time')"
   ]
  },
  {
   "cell_type": "code",
   "execution_count": 474,
   "id": "c018d8e1",
   "metadata": {},
   "outputs": [
    {
     "name": "stdout",
     "output_type": "stream",
     "text": [
      "The wizard wins 50.0 percent of the time\n",
      "The mage wins 10.0 percent of the time\n",
      "They tie 0.4 percent of the time\n"
     ]
    }
   ],
   "source": [
    "duel(10)"
   ]
  },
  {
   "cell_type": "markdown",
   "id": "88e1c50f",
   "metadata": {},
   "source": [
    "Running this multiple times gives highly variable answers with 10 battles"
   ]
  },
  {
   "cell_type": "code",
   "execution_count": 460,
   "id": "50e0788a",
   "metadata": {},
   "outputs": [
    {
     "name": "stdout",
     "output_type": "stream",
     "text": [
      "The wizard wins 20.0 percent of the time\n",
      "The mage wins 50.0 percent of the time\n",
      "They tie 0.3 percent of the time\n"
     ]
    }
   ],
   "source": [
    "duel(10)"
   ]
  },
  {
   "cell_type": "code",
   "execution_count": 461,
   "id": "d77f6f9b",
   "metadata": {},
   "outputs": [
    {
     "name": "stdout",
     "output_type": "stream",
     "text": [
      "The wizard wins 45.0 percent of the time\n",
      "The mage wins 43.0 percent of the time\n",
      "They tie 0.12 percent of the time\n"
     ]
    }
   ],
   "source": [
    "duel(100)"
   ]
  },
  {
   "cell_type": "code",
   "execution_count": 462,
   "id": "897637ed",
   "metadata": {},
   "outputs": [
    {
     "name": "stdout",
     "output_type": "stream",
     "text": [
      "The wizard wins 47.0 percent of the time\n",
      "The mage wins 44.0 percent of the time\n",
      "They tie 0.09 percent of the time\n"
     ]
    }
   ],
   "source": [
    "duel(100)"
   ]
  },
  {
   "cell_type": "code",
   "execution_count": 463,
   "id": "d3afb810",
   "metadata": {},
   "outputs": [
    {
     "name": "stdout",
     "output_type": "stream",
     "text": [
      "The wizard wins 44.83 percent of the time\n",
      "The mage wins 44.45 percent of the time\n",
      "They tie 0.1072 percent of the time\n"
     ]
    }
   ],
   "source": [
    "duel(10000)"
   ]
  },
  {
   "cell_type": "code",
   "execution_count": 464,
   "id": "76d5331d",
   "metadata": {},
   "outputs": [
    {
     "name": "stdout",
     "output_type": "stream",
     "text": [
      "The wizard wins 44.87 percent of the time\n",
      "The mage wins 44.82 percent of the time\n",
      "They tie 0.1031 percent of the time\n"
     ]
    }
   ],
   "source": [
    "duel(10000)"
   ]
  },
  {
   "cell_type": "code",
   "execution_count": 465,
   "id": "53432e8b",
   "metadata": {},
   "outputs": [
    {
     "name": "stdout",
     "output_type": "stream",
     "text": [
      "The wizard wins 44.440000000000005 percent of the time\n",
      "The mage wins 45.31 percent of the time\n",
      "They tie 0.1025 percent of the time\n"
     ]
    }
   ],
   "source": [
    "duel(10000)"
   ]
  },
  {
   "cell_type": "code",
   "execution_count": 466,
   "id": "86dfaec1",
   "metadata": {},
   "outputs": [],
   "source": [
    "#There doesn't seem to be a clear winner and we need more statistical methods to determine"
   ]
  },
  {
   "cell_type": "code",
   "execution_count": 467,
   "id": "7d33d541",
   "metadata": {},
   "outputs": [
    {
     "name": "stdout",
     "output_type": "stream",
     "text": [
      "The wizard wins 44.9383 percent of the time\n",
      "The mage wins 44.934400000000004 percent of the time\n",
      "They tie 0.101273 percent of the time\n"
     ]
    }
   ],
   "source": [
    "duel(1000000)"
   ]
  },
  {
   "cell_type": "code",
   "execution_count": 468,
   "id": "4db4f0f4",
   "metadata": {},
   "outputs": [
    {
     "name": "stdout",
     "output_type": "stream",
     "text": [
      "The wizard wins 45.0523 percent of the time\n",
      "The mage wins 44.794200000000004 percent of the time\n",
      "They tie 0.101535 percent of the time\n"
     ]
    }
   ],
   "source": [
    "duel(1000000)"
   ]
  },
  {
   "cell_type": "code",
   "execution_count": 469,
   "id": "2fedfd45",
   "metadata": {},
   "outputs": [
    {
     "name": "stdout",
     "output_type": "stream",
     "text": [
      "The wizard wins 44.9242 percent of the time\n",
      "The mage wins 44.9306 percent of the time\n",
      "They tie 0.101452 percent of the time\n"
     ]
    }
   ],
   "source": [
    "duel(1000000)"
   ]
  },
  {
   "cell_type": "markdown",
   "id": "bed0fa4c",
   "metadata": {},
   "source": [
    "Simulating Chuck a Luck"
   ]
  },
  {
   "cell_type": "code",
   "execution_count": 548,
   "id": "a52435ad",
   "metadata": {},
   "outputs": [
    {
     "name": "stdout",
     "output_type": "stream",
     "text": [
      "Your chances of getting paid $-1 are 0.5787 and your estimated expected loss from this outcome is $-5787.\n",
      "Your chances of getting paid $0 are 0.3471 and your estimated expected payoff from this outcome is $0.\n",
      "Your chances of getting paid $1 are 0.0687 and your estimated expected payoff from this outcome is $687.\n",
      "Your chances of getting paid $2 are 0.0055 and your estimater expected payoff from this outcome is $110.\n",
      "Your average payout across 10000 simulations is -2.3148!\n"
     ]
    }
   ],
   "source": [
    "#def wins(num_simulations):\n",
    "num_simulations = 10000\n",
    "player_balance = -1\n",
    "player_choice = np.random.choice([1, 2, 3, 4, 5, 6])\n",
    "\n",
    "dice = 3\n",
    "values = [1, 2, 3, 4, 5, 6]\n",
    "simulations = num_simulations\n",
    "\n",
    "results = np.random.choice(values, (simulations, dice))\n",
    "number_correct = (results == player_choice).sum(axis=1)\n",
    "payout = np.unique(number_correct - 1, return_counts = True)\n",
    "\n",
    "print(f'Your chances of getting paid ${payout[0][0]} are {payout[1][0]/num_simulations} and your estimated expected loss from this outcome is ${payout[0][0] * payout[1][0]}.')\n",
    "print(f'Your chances of getting paid ${payout[0][1]} are {payout[1][1]/num_simulations} and your estimated expected payoff from this outcome is ${payout[0][1] * payout[1][1]}.')\n",
    "print(f'Your chances of getting paid ${payout[0][2]} are {payout[1][2]/num_simulations} and your estimated expected payoff from this outcome is ${payout[0][2] * payout[1][2]}.')\n",
    "print(f'Your chances of getting paid ${payout[0][3]} are {payout[1][3]/num_simulations} and your estimater expected payoff from this outcome is ${payout[0][3] * payout[1][3]}.')\n",
    "print(f'Your average payout across {num_simulations} simulations is {payout[0][0] * payout[1][0]/num_simulations + payout[0][0] * payout[1][0]/num_simulations + payout[0][0] * payout[1][0]/num_simulations + payout[0][0] * payout[1][0]/num_simulations}!')"
   ]
  },
  {
   "cell_type": "code",
   "execution_count": null,
   "id": "49bc6eb0",
   "metadata": {},
   "outputs": [],
   "source": []
  },
  {
   "cell_type": "code",
   "execution_count": 512,
   "id": "98ee22eb",
   "metadata": {},
   "outputs": [
    {
     "data": {
      "text/plain": [
       "array([0, 0, 0, 0, 1, 1, 0, 0, 1, 2])"
      ]
     },
     "execution_count": 512,
     "metadata": {},
     "output_type": "execute_result"
    }
   ],
   "source": [
    "number_correct = (results == player_choice).sum(axis=1)\n",
    "number_correct"
   ]
  },
  {
   "cell_type": "code",
   "execution_count": 521,
   "id": "829d38cc",
   "metadata": {},
   "outputs": [],
   "source": [
    "payout = number_correct - 1"
   ]
  },
  {
   "cell_type": "code",
   "execution_count": 534,
   "id": "46fc63e9",
   "metadata": {},
   "outputs": [
    {
     "data": {
      "text/plain": [
       "(array([-1,  0,  1,  2]), array([5756, 3521,  661,   62]))"
      ]
     },
     "execution_count": 534,
     "metadata": {},
     "output_type": "execute_result"
    }
   ],
   "source": [
    "payout"
   ]
  },
  {
   "cell_type": "code",
   "execution_count": 530,
   "id": "e067bdac",
   "metadata": {},
   "outputs": [
    {
     "data": {
      "text/plain": [
       "(array([-1,  0,  1]), array([6, 3, 1]))"
      ]
     },
     "execution_count": 530,
     "metadata": {},
     "output_type": "execute_result"
    }
   ],
   "source": [
    "np.unique(payout, return_counts = True)"
   ]
  },
  {
   "cell_type": "code",
   "execution_count": 543,
   "id": "e8b0c411",
   "metadata": {},
   "outputs": [
    {
     "data": {
      "text/plain": [
       "3528"
      ]
     },
     "execution_count": 543,
     "metadata": {},
     "output_type": "execute_result"
    }
   ],
   "source": [
    "payout[1][1]"
   ]
  },
  {
   "cell_type": "code",
   "execution_count": null,
   "id": "68534f73",
   "metadata": {},
   "outputs": [],
   "source": []
  }
 ],
 "metadata": {
  "kernelspec": {
   "display_name": "Python 3 (ipykernel)",
   "language": "python",
   "name": "python3"
  },
  "language_info": {
   "codemirror_mode": {
    "name": "ipython",
    "version": 3
   },
   "file_extension": ".py",
   "mimetype": "text/x-python",
   "name": "python",
   "nbconvert_exporter": "python",
   "pygments_lexer": "ipython3",
   "version": "3.10.9"
  }
 },
 "nbformat": 4,
 "nbformat_minor": 5
}

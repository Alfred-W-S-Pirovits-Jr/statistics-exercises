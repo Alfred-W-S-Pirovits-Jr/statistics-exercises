{
 "cells": [
  {
   "cell_type": "code",
   "execution_count": 38,
   "id": "af5a7e27",
   "metadata": {},
   "outputs": [],
   "source": [
    "import numpy as np\n",
    "import seaborn as sns\n",
    "import scipy.stats as stats\n",
    "import pandas as pd\n",
    "import matplotlib.pyplot as plt"
   ]
  },
  {
   "cell_type": "code",
   "execution_count": null,
   "id": "032f6e6a",
   "metadata": {},
   "outputs": [],
   "source": []
  },
  {
   "cell_type": "markdown",
   "id": "cf3443da",
   "metadata": {},
   "source": [
    "# Overview"
   ]
  },
  {
   "cell_type": "markdown",
   "id": "1e6e4197",
   "metadata": {},
   "source": [
    "Do your work for this exercise in a jupyter notebook named hypothesis_testing.ipynb.\n",
    "\n",
    "For each of the following questions, formulate a null and alternative hypothesis (be as specific as you can be), then give an example of what a true positive, true negative, type I and type II errors would look like. Note that some of the questions are intentionally phrased in a vague way. It is your job to reword these as more precise questions that could be tested."
   ]
  },
  {
   "cell_type": "markdown",
   "id": "b830658e",
   "metadata": {},
   "source": [
    "Has the network latency gone up since we switched internet service providers?"
   ]
  },
  {
   "cell_type": "markdown",
   "id": "3ede7f99",
   "metadata": {},
   "source": [
    "Null hypothesis:  There is no difference in network latency since switching providers.  latency_before = latency_after\n",
    "\n",
    "Alternative hypothesis:  There is a difference. latency_before != latency_after\n",
    "\n",
    "True positive:  There is a difference\n",
    "\n",
    "True negative:  No difference\n",
    "\n",
    "Type 1 error. Reject the null and accept there may be a difference even though the latency is the same.\n",
    "\n",
    "Type 2 error. Accept the null hypothesis that latency_before=latency after when there is a difference in latency."
   ]
  },
  {
   "cell_type": "code",
   "execution_count": null,
   "id": "fa0c7aa6",
   "metadata": {},
   "outputs": [],
   "source": []
  },
  {
   "cell_type": "markdown",
   "id": "776f464b",
   "metadata": {},
   "source": [
    "Is the website redesign any good?\n",
    "\n",
    "Null hypothesis: The website redesign is not better than it was before. redesign <= before\n",
    "\n",
    "Alternative hypothesis: The redesign is better.  redesign > before\n",
    "\n",
    "True positive:  redesign not any better\n",
    "\n",
    "True negative:  redesign is better\n",
    "\n",
    "Type one error: conclude that there is sufficient evidence to show that the redesign is better than before while it actually isn't\n",
    "\n",
    "Type two error: conclude the redesign is not better than before when it actually is"
   ]
  },
  {
   "cell_type": "code",
   "execution_count": null,
   "id": "be8d0535",
   "metadata": {},
   "outputs": [],
   "source": []
  },
  {
   "cell_type": "markdown",
   "id": "069e0249",
   "metadata": {},
   "source": [
    "Is our television ad driving more sales?\n",
    "\n",
    "Null hypothesis: the television ad is not having any affect on sales (or worse)\n",
    "\n",
    "Alternative hypothesis: the ad is driving more sales (set up as a one tail)\n",
    "\n",
    "True positive: The ad is driving more sales\n",
    "\n",
    "True negative: The ad has no effect\n",
    "\n",
    "Type one error:  Conclude that there is evidence to show the ad is driving more sales when it isn't\n",
    "\n",
    "Type two error:  Conclude that there is evidence that the ad is having no effect on revenue (or lower effect) when it in fact is driving more sales"
   ]
  },
  {
   "cell_type": "markdown",
   "id": "34fde6f9",
   "metadata": {},
   "source": [
    "# Comparison of Means"
   ]
  },
  {
   "cell_type": "markdown",
   "id": "a241cb26",
   "metadata": {},
   "source": [
    "1.a. Answer with the type of test you would use (assume normal distribution):\n",
    "Is there a difference in grades of students on the second floor compared to grades of all students?\n",
    "\n",
    "would set up a one sample two tailed t test to compare the grades of students on the second floor to all students"
   ]
  },
  {
   "cell_type": "code",
   "execution_count": null,
   "id": "2d83c3d8",
   "metadata": {},
   "outputs": [],
   "source": []
  },
  {
   "cell_type": "markdown",
   "id": "9fe24bb7",
   "metadata": {},
   "source": [
    "b.  Are adults who drink milk taller than adults who dont drink milk?\n",
    "\n",
    "would set up a independent one tailed t test to compare the two populations the heights of the ones who do and those who don't drink milk"
   ]
  },
  {
   "cell_type": "code",
   "execution_count": null,
   "id": "654cb327",
   "metadata": {},
   "outputs": [],
   "source": []
  },
  {
   "cell_type": "markdown",
   "id": "d9299131",
   "metadata": {},
   "source": [
    "c. Is the the price of gas higher in texas or in new mexico?\n",
    "\n",
    "I would set up a independent two tailed t test to compare the price of gas between the two states"
   ]
  },
  {
   "cell_type": "code",
   "execution_count": null,
   "id": "fd070e25",
   "metadata": {},
   "outputs": [],
   "source": []
  },
  {
   "cell_type": "markdown",
   "id": "1f8971f1",
   "metadata": {},
   "source": [
    "d.  Are there differences in stress levels between students who take data science vs students who take web development vs students who take cloud academy?"
   ]
  },
  {
   "cell_type": "markdown",
   "id": "74019c19",
   "metadata": {},
   "source": [
    "I would set up a independent t test to compare the stress levels between the two\n"
   ]
  },
  {
   "cell_type": "code",
   "execution_count": null,
   "id": "848d4208",
   "metadata": {},
   "outputs": [],
   "source": []
  },
  {
   "cell_type": "markdown",
   "id": "5be2ed65",
   "metadata": {},
   "source": [
    "2.  Ace Realty wants to determine whether the average time it takes to sell homes is different for its two offices. A sample of 40 sales from office #1 revealed a mean of 90 days and a standard deviation of 15 days. A sample of 50 sales from office #2 revealed a mean of 100 days and a standard deviation of 20 days. Use a .05 level of significance."
   ]
  },
  {
   "cell_type": "code",
   "execution_count": 106,
   "id": "d0cfdfdb",
   "metadata": {},
   "outputs": [],
   "source": [
    "n1 = 40\n",
    "μ1 = 90\n",
    "σ1 = 15\n",
    "office1 = np.random.normal(μ1, σ1, n1)\n",
    "n2 = 50\n",
    "μ2 = 100\n",
    "σ2 = 20\n",
    "office2 = np.random.normal(μ2, σ2, n2)\n"
   ]
  },
  {
   "cell_type": "code",
   "execution_count": 107,
   "id": "12e82b51",
   "metadata": {},
   "outputs": [],
   "source": [
    "office_1 = stats.norm(90, 15).rvs(40)\n",
    "office_2 = stats.norm(100, 20).rvs(50)"
   ]
  },
  {
   "cell_type": "code",
   "execution_count": 108,
   "id": "fc97473d",
   "metadata": {},
   "outputs": [
    {
     "data": {
      "text/plain": [
       "(0.00667377632070603, 0.9350762199570695)"
      ]
     },
     "execution_count": 108,
     "metadata": {},
     "output_type": "execute_result"
    }
   ],
   "source": [
    "#test for equal variances \n",
    "#mini null: equal\n",
    "#mini alt: unequal\n",
    "#mini α < .05\n",
    "stat, pval = stats.levene(office1, office2)\n",
    "stat, pval# not enough evidence to reject null"
   ]
  },
  {
   "cell_type": "code",
   "execution_count": 109,
   "id": "f93c4d10",
   "metadata": {},
   "outputs": [
    {
     "data": {
      "text/plain": [
       "(-1.6125240137365173, 0.11042872864105556)"
      ]
     },
     "execution_count": 109,
     "metadata": {},
     "output_type": "execute_result"
    }
   ],
   "source": [
    "#Null hypothesis: There is no significant difference in the time it takes to sell homes in the two offices i.e. μ1 == μ2\n",
    "#Alternative:  There is a difference μ1 != μ2 I will set up a two tail since it may have an effect both ways\n",
    "# choose an α = .05\n",
    "t, p = stats.ttest_ind(office1, office2, equal_var=True)\n",
    "t, p\n",
    "\n",
    "#not enoug evidence to reject the null hypothesis so there seems no significant difference between the two"
   ]
  },
  {
   "cell_type": "code",
   "execution_count": 116,
   "id": "04f131a0",
   "metadata": {},
   "outputs": [
    {
     "data": {
      "text/plain": [
       "(-2.6252287036468456, 0.01020985244923939)"
      ]
     },
     "execution_count": 116,
     "metadata": {},
     "output_type": "execute_result"
    }
   ],
   "source": [
    "#or\n",
    "t_stat, pval = stats.ttest_ind_from_stats(90,15,40,100,20,50, equal_var=True)\n",
    "t_stat, pval #in this case we have enough to reject the null hypothesis"
   ]
  },
  {
   "cell_type": "markdown",
   "id": "c36a6984",
   "metadata": {},
   "source": [
    "3.  Load the mpg dataset and use it to answer the following questions:\n",
    "Is there a difference in fuel-efficiency in cars from 2008 vs 1999?"
   ]
  },
  {
   "cell_type": "code",
   "execution_count": 31,
   "id": "d1043e9f",
   "metadata": {},
   "outputs": [],
   "source": [
    " #two tailed\n",
    "from pydataset import data\n",
    "mpg = data('mpg')\n",
    "mpg = mpg.assign(harmonic_mean = 2/(1/mpg.cty + 1/mpg.hwy))"
   ]
  },
  {
   "cell_type": "code",
   "execution_count": 32,
   "id": "4a140a87",
   "metadata": {},
   "outputs": [],
   "source": [
    "nineteen_ninety_nine_cars = mpg[mpg.year == 1999]\n",
    "two_thousand_eight_cars = mpg[mpg.year == 2008]"
   ]
  },
  {
   "cell_type": "code",
   "execution_count": 118,
   "id": "f4a9b855",
   "metadata": {},
   "outputs": [
    {
     "data": {
      "text/html": [
       "<div>\n",
       "<style scoped>\n",
       "    .dataframe tbody tr th:only-of-type {\n",
       "        vertical-align: middle;\n",
       "    }\n",
       "\n",
       "    .dataframe tbody tr th {\n",
       "        vertical-align: top;\n",
       "    }\n",
       "\n",
       "    .dataframe thead th {\n",
       "        text-align: right;\n",
       "    }\n",
       "</style>\n",
       "<table border=\"1\" class=\"dataframe\">\n",
       "  <thead>\n",
       "    <tr style=\"text-align: right;\">\n",
       "      <th></th>\n",
       "      <th>displ</th>\n",
       "      <th>year</th>\n",
       "      <th>cyl</th>\n",
       "      <th>cty</th>\n",
       "      <th>hwy</th>\n",
       "      <th>harmonic_mean</th>\n",
       "    </tr>\n",
       "  </thead>\n",
       "  <tbody>\n",
       "    <tr>\n",
       "      <th>count</th>\n",
       "      <td>117.000000</td>\n",
       "      <td>117.0</td>\n",
       "      <td>117.000000</td>\n",
       "      <td>117.000000</td>\n",
       "      <td>117.000000</td>\n",
       "      <td>117.000000</td>\n",
       "    </tr>\n",
       "    <tr>\n",
       "      <th>mean</th>\n",
       "      <td>3.281197</td>\n",
       "      <td>1999.0</td>\n",
       "      <td>5.692308</td>\n",
       "      <td>17.017094</td>\n",
       "      <td>23.427350</td>\n",
       "      <td>19.682388</td>\n",
       "    </tr>\n",
       "    <tr>\n",
       "      <th>std</th>\n",
       "      <td>1.260058</td>\n",
       "      <td>0.0</td>\n",
       "      <td>1.545079</td>\n",
       "      <td>4.458589</td>\n",
       "      <td>6.084628</td>\n",
       "      <td>5.084329</td>\n",
       "    </tr>\n",
       "    <tr>\n",
       "      <th>min</th>\n",
       "      <td>1.600000</td>\n",
       "      <td>1999.0</td>\n",
       "      <td>4.000000</td>\n",
       "      <td>11.000000</td>\n",
       "      <td>15.000000</td>\n",
       "      <td>12.692308</td>\n",
       "    </tr>\n",
       "    <tr>\n",
       "      <th>25%</th>\n",
       "      <td>2.200000</td>\n",
       "      <td>1999.0</td>\n",
       "      <td>4.000000</td>\n",
       "      <td>14.000000</td>\n",
       "      <td>17.000000</td>\n",
       "      <td>15.354839</td>\n",
       "    </tr>\n",
       "    <tr>\n",
       "      <th>50%</th>\n",
       "      <td>3.000000</td>\n",
       "      <td>1999.0</td>\n",
       "      <td>6.000000</td>\n",
       "      <td>17.000000</td>\n",
       "      <td>25.000000</td>\n",
       "      <td>19.902439</td>\n",
       "    </tr>\n",
       "    <tr>\n",
       "      <th>75%</th>\n",
       "      <td>4.000000</td>\n",
       "      <td>1999.0</td>\n",
       "      <td>6.000000</td>\n",
       "      <td>19.000000</td>\n",
       "      <td>26.000000</td>\n",
       "      <td>21.955556</td>\n",
       "    </tr>\n",
       "    <tr>\n",
       "      <th>max</th>\n",
       "      <td>6.500000</td>\n",
       "      <td>1999.0</td>\n",
       "      <td>8.000000</td>\n",
       "      <td>35.000000</td>\n",
       "      <td>44.000000</td>\n",
       "      <td>38.987342</td>\n",
       "    </tr>\n",
       "  </tbody>\n",
       "</table>\n",
       "</div>"
      ],
      "text/plain": [
       "            displ    year         cyl         cty         hwy  harmonic_mean\n",
       "count  117.000000   117.0  117.000000  117.000000  117.000000     117.000000\n",
       "mean     3.281197  1999.0    5.692308   17.017094   23.427350      19.682388\n",
       "std      1.260058     0.0    1.545079    4.458589    6.084628       5.084329\n",
       "min      1.600000  1999.0    4.000000   11.000000   15.000000      12.692308\n",
       "25%      2.200000  1999.0    4.000000   14.000000   17.000000      15.354839\n",
       "50%      3.000000  1999.0    6.000000   17.000000   25.000000      19.902439\n",
       "75%      4.000000  1999.0    6.000000   19.000000   26.000000      21.955556\n",
       "max      6.500000  1999.0    8.000000   35.000000   44.000000      38.987342"
      ]
     },
     "execution_count": 118,
     "metadata": {},
     "output_type": "execute_result"
    }
   ],
   "source": [
    "nineteen_ninety_nine_cars.describe()"
   ]
  },
  {
   "cell_type": "code",
   "execution_count": 119,
   "id": "fc956a27",
   "metadata": {},
   "outputs": [
    {
     "data": {
      "text/plain": [
       "<Axes: >"
      ]
     },
     "execution_count": 119,
     "metadata": {},
     "output_type": "execute_result"
    },
    {
     "data": {
      "image/png": "[encoded data removed]",
      "text/plain": [
       "<Figure size 640x480 with 1 Axes>"
      ]
     },
     "metadata": {},
     "output_type": "display_data"
    }
   ],
   "source": [
    "nineteen_ninety_nine_cars.harmonic_mean.hist()"
   ]
  },
  {
   "cell_type": "code",
   "execution_count": 34,
   "id": "6b60dda5",
   "metadata": {},
   "outputs": [
    {
     "data": {
      "text/html": [
       "<div>\n",
       "<style scoped>\n",
       "    .dataframe tbody tr th:only-of-type {\n",
       "        vertical-align: middle;\n",
       "    }\n",
       "\n",
       "    .dataframe tbody tr th {\n",
       "        vertical-align: top;\n",
       "    }\n",
       "\n",
       "    .dataframe thead th {\n",
       "        text-align: right;\n",
       "    }\n",
       "</style>\n",
       "<table border=\"1\" class=\"dataframe\">\n",
       "  <thead>\n",
       "    <tr style=\"text-align: right;\">\n",
       "      <th></th>\n",
       "      <th>displ</th>\n",
       "      <th>year</th>\n",
       "      <th>cyl</th>\n",
       "      <th>cty</th>\n",
       "      <th>hwy</th>\n",
       "      <th>harmonic_mean</th>\n",
       "    </tr>\n",
       "  </thead>\n",
       "  <tbody>\n",
       "    <tr>\n",
       "      <th>count</th>\n",
       "      <td>117.000000</td>\n",
       "      <td>117.0</td>\n",
       "      <td>117.00000</td>\n",
       "      <td>117.000000</td>\n",
       "      <td>117.000000</td>\n",
       "      <td>117.000000</td>\n",
       "    </tr>\n",
       "    <tr>\n",
       "      <th>mean</th>\n",
       "      <td>3.662393</td>\n",
       "      <td>2008.0</td>\n",
       "      <td>6.08547</td>\n",
       "      <td>16.700855</td>\n",
       "      <td>23.452991</td>\n",
       "      <td>19.488663</td>\n",
       "    </tr>\n",
       "    <tr>\n",
       "      <th>std</th>\n",
       "      <td>1.300645</td>\n",
       "      <td>0.0</td>\n",
       "      <td>1.65869</td>\n",
       "      <td>4.056211</td>\n",
       "      <td>5.847923</td>\n",
       "      <td>4.748772</td>\n",
       "    </tr>\n",
       "    <tr>\n",
       "      <th>min</th>\n",
       "      <td>1.800000</td>\n",
       "      <td>2008.0</td>\n",
       "      <td>4.00000</td>\n",
       "      <td>9.000000</td>\n",
       "      <td>12.000000</td>\n",
       "      <td>10.285714</td>\n",
       "    </tr>\n",
       "    <tr>\n",
       "      <th>25%</th>\n",
       "      <td>2.500000</td>\n",
       "      <td>2008.0</td>\n",
       "      <td>4.00000</td>\n",
       "      <td>13.000000</td>\n",
       "      <td>18.000000</td>\n",
       "      <td>15.437500</td>\n",
       "    </tr>\n",
       "    <tr>\n",
       "      <th>50%</th>\n",
       "      <td>3.600000</td>\n",
       "      <td>2008.0</td>\n",
       "      <td>6.00000</td>\n",
       "      <td>17.000000</td>\n",
       "      <td>24.000000</td>\n",
       "      <td>19.512195</td>\n",
       "    </tr>\n",
       "    <tr>\n",
       "      <th>75%</th>\n",
       "      <td>4.700000</td>\n",
       "      <td>2008.0</td>\n",
       "      <td>8.00000</td>\n",
       "      <td>20.000000</td>\n",
       "      <td>28.000000</td>\n",
       "      <td>22.978723</td>\n",
       "    </tr>\n",
       "    <tr>\n",
       "      <th>max</th>\n",
       "      <td>7.000000</td>\n",
       "      <td>2008.0</td>\n",
       "      <td>8.00000</td>\n",
       "      <td>28.000000</td>\n",
       "      <td>37.000000</td>\n",
       "      <td>31.876923</td>\n",
       "    </tr>\n",
       "  </tbody>\n",
       "</table>\n",
       "</div>"
      ],
      "text/plain": [
       "            displ    year        cyl         cty         hwy  harmonic_mean\n",
       "count  117.000000   117.0  117.00000  117.000000  117.000000     117.000000\n",
       "mean     3.662393  2008.0    6.08547   16.700855   23.452991      19.488663\n",
       "std      1.300645     0.0    1.65869    4.056211    5.847923       4.748772\n",
       "min      1.800000  2008.0    4.00000    9.000000   12.000000      10.285714\n",
       "25%      2.500000  2008.0    4.00000   13.000000   18.000000      15.437500\n",
       "50%      3.600000  2008.0    6.00000   17.000000   24.000000      19.512195\n",
       "75%      4.700000  2008.0    8.00000   20.000000   28.000000      22.978723\n",
       "max      7.000000  2008.0    8.00000   28.000000   37.000000      31.876923"
      ]
     },
     "execution_count": 34,
     "metadata": {},
     "output_type": "execute_result"
    }
   ],
   "source": [
    "two_thousand_eight_cars.describe()"
   ]
  },
  {
   "cell_type": "code",
   "execution_count": 120,
   "id": "fbb39394",
   "metadata": {},
   "outputs": [
    {
     "data": {
      "text/plain": [
       "<Axes: >"
      ]
     },
     "execution_count": 120,
     "metadata": {},
     "output_type": "execute_result"
    },
    {
     "data": {
      "image/png": "[encoded data removed]",
      "text/plain": [
       "<Figure size 640x480 with 1 Axes>"
      ]
     },
     "metadata": {},
     "output_type": "display_data"
    }
   ],
   "source": [
    "two_thousand_eight_cars.harmonic_mean.hist()"
   ]
  },
  {
   "cell_type": "code",
   "execution_count": 41,
   "id": "4d70f913",
   "metadata": {},
   "outputs": [],
   "source": [
    "# Mini H0: variances are equal between groups\n",
    "# Ha: variances are inequal between groups\n",
    "# alpha: 0.05\n",
    "stat, pval = stats.levene(nineteen_ninety_nine_cars.harmonic_mean, two_thousand_eight_cars.harmonic_mean)"
   ]
  },
  {
   "cell_type": "code",
   "execution_count": 42,
   "id": "14278ce0",
   "metadata": {},
   "outputs": [
    {
     "data": {
      "text/plain": [
       "0.8602339200830025"
      ]
     },
     "execution_count": 42,
     "metadata": {},
     "output_type": "execute_result"
    }
   ],
   "source": [
    "pval"
   ]
  },
  {
   "cell_type": "code",
   "execution_count": 44,
   "id": "2058e4dc",
   "metadata": {},
   "outputs": [],
   "source": [
    "t, p = stats.ttest_ind(nineteen_ninety_nine_cars.harmonic_mean, two_thousand_eight_cars.harmonic_mean, equal_var=True)"
   ]
  },
  {
   "cell_type": "code",
   "execution_count": 45,
   "id": "e21ee17f",
   "metadata": {},
   "outputs": [
    {
     "data": {
      "text/plain": [
       "(0.3011962975077886, 0.7635345888327115)"
      ]
     },
     "execution_count": 45,
     "metadata": {},
     "output_type": "execute_result"
    }
   ],
   "source": [
    "t, p"
   ]
  },
  {
   "cell_type": "code",
   "execution_count": 121,
   "id": "940ad5f2",
   "metadata": {},
   "outputs": [],
   "source": [
    "#We do not have the significance level so we fail to reject the null, there is no evidence that there is a difference"
   ]
  },
  {
   "cell_type": "markdown",
   "id": "370b80fe",
   "metadata": {},
   "source": [
    "Are compact cars more fuel-efficient than the average car?"
   ]
  },
  {
   "cell_type": "code",
   "execution_count": 122,
   "id": "d4937840",
   "metadata": {},
   "outputs": [
    {
     "data": {
      "text/html": [
       "<div>\n",
       "<style scoped>\n",
       "    .dataframe tbody tr th:only-of-type {\n",
       "        vertical-align: middle;\n",
       "    }\n",
       "\n",
       "    .dataframe tbody tr th {\n",
       "        vertical-align: top;\n",
       "    }\n",
       "\n",
       "    .dataframe thead th {\n",
       "        text-align: right;\n",
       "    }\n",
       "</style>\n",
       "<table border=\"1\" class=\"dataframe\">\n",
       "  <thead>\n",
       "    <tr style=\"text-align: right;\">\n",
       "      <th></th>\n",
       "      <th>displ</th>\n",
       "      <th>year</th>\n",
       "      <th>cyl</th>\n",
       "      <th>cty</th>\n",
       "      <th>hwy</th>\n",
       "      <th>harmonic_mean</th>\n",
       "    </tr>\n",
       "  </thead>\n",
       "  <tbody>\n",
       "    <tr>\n",
       "      <th>count</th>\n",
       "      <td>47.000000</td>\n",
       "      <td>47.000000</td>\n",
       "      <td>47.000000</td>\n",
       "      <td>47.00000</td>\n",
       "      <td>47.000000</td>\n",
       "      <td>47.000000</td>\n",
       "    </tr>\n",
       "    <tr>\n",
       "      <th>mean</th>\n",
       "      <td>2.325532</td>\n",
       "      <td>2003.212766</td>\n",
       "      <td>4.595745</td>\n",
       "      <td>20.12766</td>\n",
       "      <td>28.297872</td>\n",
       "      <td>23.500417</td>\n",
       "    </tr>\n",
       "    <tr>\n",
       "      <th>std</th>\n",
       "      <td>0.452274</td>\n",
       "      <td>4.539374</td>\n",
       "      <td>0.900714</td>\n",
       "      <td>3.38550</td>\n",
       "      <td>3.781620</td>\n",
       "      <td>3.572665</td>\n",
       "    </tr>\n",
       "    <tr>\n",
       "      <th>min</th>\n",
       "      <td>1.800000</td>\n",
       "      <td>1999.000000</td>\n",
       "      <td>4.000000</td>\n",
       "      <td>15.00000</td>\n",
       "      <td>23.000000</td>\n",
       "      <td>18.750000</td>\n",
       "    </tr>\n",
       "    <tr>\n",
       "      <th>25%</th>\n",
       "      <td>2.000000</td>\n",
       "      <td>1999.000000</td>\n",
       "      <td>4.000000</td>\n",
       "      <td>18.00000</td>\n",
       "      <td>26.000000</td>\n",
       "      <td>21.272727</td>\n",
       "    </tr>\n",
       "    <tr>\n",
       "      <th>50%</th>\n",
       "      <td>2.200000</td>\n",
       "      <td>1999.000000</td>\n",
       "      <td>4.000000</td>\n",
       "      <td>20.00000</td>\n",
       "      <td>27.000000</td>\n",
       "      <td>22.978723</td>\n",
       "    </tr>\n",
       "    <tr>\n",
       "      <th>75%</th>\n",
       "      <td>2.800000</td>\n",
       "      <td>2008.000000</td>\n",
       "      <td>6.000000</td>\n",
       "      <td>21.00000</td>\n",
       "      <td>29.000000</td>\n",
       "      <td>24.360000</td>\n",
       "    </tr>\n",
       "    <tr>\n",
       "      <th>max</th>\n",
       "      <td>3.300000</td>\n",
       "      <td>2008.000000</td>\n",
       "      <td>6.000000</td>\n",
       "      <td>33.00000</td>\n",
       "      <td>44.000000</td>\n",
       "      <td>37.714286</td>\n",
       "    </tr>\n",
       "  </tbody>\n",
       "</table>\n",
       "</div>"
      ],
      "text/plain": [
       "           displ         year        cyl       cty        hwy  harmonic_mean\n",
       "count  47.000000    47.000000  47.000000  47.00000  47.000000      47.000000\n",
       "mean    2.325532  2003.212766   4.595745  20.12766  28.297872      23.500417\n",
       "std     0.452274     4.539374   0.900714   3.38550   3.781620       3.572665\n",
       "min     1.800000  1999.000000   4.000000  15.00000  23.000000      18.750000\n",
       "25%     2.000000  1999.000000   4.000000  18.00000  26.000000      21.272727\n",
       "50%     2.200000  1999.000000   4.000000  20.00000  27.000000      22.978723\n",
       "75%     2.800000  2008.000000   6.000000  21.00000  29.000000      24.360000\n",
       "max     3.300000  2008.000000   6.000000  33.00000  44.000000      37.714286"
      ]
     },
     "execution_count": 122,
     "metadata": {},
     "output_type": "execute_result"
    }
   ],
   "source": [
    "compact = mpg[mpg['class'] == 'compact']\n",
    "compact.describe()"
   ]
  },
  {
   "cell_type": "code",
   "execution_count": 124,
   "id": "7e4146d6",
   "metadata": {},
   "outputs": [
    {
     "data": {
      "text/html": [
       "<div>\n",
       "<style scoped>\n",
       "    .dataframe tbody tr th:only-of-type {\n",
       "        vertical-align: middle;\n",
       "    }\n",
       "\n",
       "    .dataframe tbody tr th {\n",
       "        vertical-align: top;\n",
       "    }\n",
       "\n",
       "    .dataframe thead th {\n",
       "        text-align: right;\n",
       "    }\n",
       "</style>\n",
       "<table border=\"1\" class=\"dataframe\">\n",
       "  <thead>\n",
       "    <tr style=\"text-align: right;\">\n",
       "      <th></th>\n",
       "      <th>displ</th>\n",
       "      <th>year</th>\n",
       "      <th>cyl</th>\n",
       "      <th>cty</th>\n",
       "      <th>hwy</th>\n",
       "      <th>harmonic_mean</th>\n",
       "    </tr>\n",
       "  </thead>\n",
       "  <tbody>\n",
       "    <tr>\n",
       "      <th>count</th>\n",
       "      <td>187.000000</td>\n",
       "      <td>187.000000</td>\n",
       "      <td>187.000000</td>\n",
       "      <td>187.000000</td>\n",
       "      <td>187.000000</td>\n",
       "      <td>187.000000</td>\n",
       "    </tr>\n",
       "    <tr>\n",
       "      <th>mean</th>\n",
       "      <td>3.759893</td>\n",
       "      <td>2003.572193</td>\n",
       "      <td>6.213904</td>\n",
       "      <td>16.037433</td>\n",
       "      <td>22.219251</td>\n",
       "      <td>18.601569</td>\n",
       "    </tr>\n",
       "    <tr>\n",
       "      <th>std</th>\n",
       "      <td>1.274711</td>\n",
       "      <td>4.511500</td>\n",
       "      <td>1.588676</td>\n",
       "      <td>4.059198</td>\n",
       "      <td>5.780953</td>\n",
       "      <td>4.711123</td>\n",
       "    </tr>\n",
       "    <tr>\n",
       "      <th>min</th>\n",
       "      <td>1.600000</td>\n",
       "      <td>1999.000000</td>\n",
       "      <td>4.000000</td>\n",
       "      <td>9.000000</td>\n",
       "      <td>12.000000</td>\n",
       "      <td>10.285714</td>\n",
       "    </tr>\n",
       "    <tr>\n",
       "      <th>25%</th>\n",
       "      <td>2.500000</td>\n",
       "      <td>1999.000000</td>\n",
       "      <td>4.000000</td>\n",
       "      <td>13.000000</td>\n",
       "      <td>17.000000</td>\n",
       "      <td>14.915054</td>\n",
       "    </tr>\n",
       "    <tr>\n",
       "      <th>50%</th>\n",
       "      <td>3.800000</td>\n",
       "      <td>2008.000000</td>\n",
       "      <td>6.000000</td>\n",
       "      <td>15.000000</td>\n",
       "      <td>22.000000</td>\n",
       "      <td>17.837838</td>\n",
       "    </tr>\n",
       "    <tr>\n",
       "      <th>75%</th>\n",
       "      <td>4.700000</td>\n",
       "      <td>2008.000000</td>\n",
       "      <td>8.000000</td>\n",
       "      <td>18.000000</td>\n",
       "      <td>26.000000</td>\n",
       "      <td>21.590909</td>\n",
       "    </tr>\n",
       "    <tr>\n",
       "      <th>max</th>\n",
       "      <td>7.000000</td>\n",
       "      <td>2008.000000</td>\n",
       "      <td>8.000000</td>\n",
       "      <td>35.000000</td>\n",
       "      <td>44.000000</td>\n",
       "      <td>38.987342</td>\n",
       "    </tr>\n",
       "  </tbody>\n",
       "</table>\n",
       "</div>"
      ],
      "text/plain": [
       "            displ         year         cyl         cty         hwy  \\\n",
       "count  187.000000   187.000000  187.000000  187.000000  187.000000   \n",
       "mean     3.759893  2003.572193    6.213904   16.037433   22.219251   \n",
       "std      1.274711     4.511500    1.588676    4.059198    5.780953   \n",
       "min      1.600000  1999.000000    4.000000    9.000000   12.000000   \n",
       "25%      2.500000  1999.000000    4.000000   13.000000   17.000000   \n",
       "50%      3.800000  2008.000000    6.000000   15.000000   22.000000   \n",
       "75%      4.700000  2008.000000    8.000000   18.000000   26.000000   \n",
       "max      7.000000  2008.000000    8.000000   35.000000   44.000000   \n",
       "\n",
       "       harmonic_mean  \n",
       "count     187.000000  \n",
       "mean       18.601569  \n",
       "std         4.711123  \n",
       "min        10.285714  \n",
       "25%        14.915054  \n",
       "50%        17.837838  \n",
       "75%        21.590909  \n",
       "max        38.987342  "
      ]
     },
     "execution_count": 124,
     "metadata": {},
     "output_type": "execute_result"
    }
   ],
   "source": [
    "#Null hypothesis:  There is no difference between the two  compact.harmonic_mean == non_compact.harmonic_mean\n",
    "#Alternative Hypothesis:  There is a difference\n",
    "#α < .025 one tailed\n",
    "\n",
    "non_compact = mpg[mpg['class'] != 'compact']\n",
    "non_compact.describe()"
   ]
  },
  {
   "cell_type": "code",
   "execution_count": 125,
   "id": "984a692e",
   "metadata": {},
   "outputs": [
    {
     "data": {
      "text/plain": [
       "(7.730287593946991, 0.005875923121564377)"
      ]
     },
     "execution_count": 125,
     "metadata": {},
     "output_type": "execute_result"
    }
   ],
   "source": [
    "stat, pval = stats.levene(compact.harmonic_mean, non_compact.harmonic_mean)\n",
    "stat, pval #for equal variances"
   ]
  },
  {
   "cell_type": "code",
   "execution_count": 58,
   "id": "c6dac595",
   "metadata": {},
   "outputs": [
    {
     "data": {
      "text/plain": [
       "(7.841809963307849, 8.271751245887691e-12)"
      ]
     },
     "execution_count": 58,
     "metadata": {},
     "output_type": "execute_result"
    }
   ],
   "source": [
    "t, p = stats.ttest_ind(compact.harmonic_mean, non_compact.harmonic_mean, equal_var = False)\n",
    "t, p"
   ]
  },
  {
   "cell_type": "markdown",
   "id": "da23fb27",
   "metadata": {},
   "source": [
    "#There is sufficient evidence to reject the null hypothesis and suggest that there is a difference between compact cars and non-compact cara"
   ]
  },
  {
   "cell_type": "markdown",
   "id": "20131e14",
   "metadata": {},
   "source": [
    "Do manual cars get better gas mileage than automatic cars?"
   ]
  },
  {
   "cell_type": "code",
   "execution_count": 126,
   "id": "552919e0",
   "metadata": {},
   "outputs": [
    {
     "data": {
      "text/html": [
       "<div>\n",
       "<style scoped>\n",
       "    .dataframe tbody tr th:only-of-type {\n",
       "        vertical-align: middle;\n",
       "    }\n",
       "\n",
       "    .dataframe tbody tr th {\n",
       "        vertical-align: top;\n",
       "    }\n",
       "\n",
       "    .dataframe thead th {\n",
       "        text-align: right;\n",
       "    }\n",
       "</style>\n",
       "<table border=\"1\" class=\"dataframe\">\n",
       "  <thead>\n",
       "    <tr style=\"text-align: right;\">\n",
       "      <th></th>\n",
       "      <th>displ</th>\n",
       "      <th>year</th>\n",
       "      <th>cyl</th>\n",
       "      <th>cty</th>\n",
       "      <th>hwy</th>\n",
       "      <th>harmonic_mean</th>\n",
       "    </tr>\n",
       "  </thead>\n",
       "  <tbody>\n",
       "    <tr>\n",
       "      <th>count</th>\n",
       "      <td>77.000000</td>\n",
       "      <td>77.000000</td>\n",
       "      <td>77.000000</td>\n",
       "      <td>77.000000</td>\n",
       "      <td>77.000000</td>\n",
       "      <td>77.000000</td>\n",
       "    </tr>\n",
       "    <tr>\n",
       "      <th>mean</th>\n",
       "      <td>2.966234</td>\n",
       "      <td>2002.974026</td>\n",
       "      <td>5.246753</td>\n",
       "      <td>18.675325</td>\n",
       "      <td>25.779221</td>\n",
       "      <td>21.629229</td>\n",
       "    </tr>\n",
       "    <tr>\n",
       "      <th>std</th>\n",
       "      <td>1.187059</td>\n",
       "      <td>4.498462</td>\n",
       "      <td>1.479294</td>\n",
       "      <td>4.488118</td>\n",
       "      <td>5.961772</td>\n",
       "      <td>5.066126</td>\n",
       "    </tr>\n",
       "    <tr>\n",
       "      <th>min</th>\n",
       "      <td>1.600000</td>\n",
       "      <td>1999.000000</td>\n",
       "      <td>4.000000</td>\n",
       "      <td>9.000000</td>\n",
       "      <td>12.000000</td>\n",
       "      <td>10.285714</td>\n",
       "    </tr>\n",
       "    <tr>\n",
       "      <th>25%</th>\n",
       "      <td>2.000000</td>\n",
       "      <td>1999.000000</td>\n",
       "      <td>4.000000</td>\n",
       "      <td>15.000000</td>\n",
       "      <td>23.000000</td>\n",
       "      <td>18.461538</td>\n",
       "    </tr>\n",
       "    <tr>\n",
       "      <th>50%</th>\n",
       "      <td>2.500000</td>\n",
       "      <td>1999.000000</td>\n",
       "      <td>4.000000</td>\n",
       "      <td>18.000000</td>\n",
       "      <td>26.000000</td>\n",
       "      <td>21.590909</td>\n",
       "    </tr>\n",
       "    <tr>\n",
       "      <th>75%</th>\n",
       "      <td>3.500000</td>\n",
       "      <td>2008.000000</td>\n",
       "      <td>6.000000</td>\n",
       "      <td>21.000000</td>\n",
       "      <td>29.000000</td>\n",
       "      <td>24.360000</td>\n",
       "    </tr>\n",
       "    <tr>\n",
       "      <th>max</th>\n",
       "      <td>7.000000</td>\n",
       "      <td>2008.000000</td>\n",
       "      <td>8.000000</td>\n",
       "      <td>35.000000</td>\n",
       "      <td>44.000000</td>\n",
       "      <td>38.987342</td>\n",
       "    </tr>\n",
       "  </tbody>\n",
       "</table>\n",
       "</div>"
      ],
      "text/plain": [
       "           displ         year        cyl        cty        hwy  harmonic_mean\n",
       "count  77.000000    77.000000  77.000000  77.000000  77.000000      77.000000\n",
       "mean    2.966234  2002.974026   5.246753  18.675325  25.779221      21.629229\n",
       "std     1.187059     4.498462   1.479294   4.488118   5.961772       5.066126\n",
       "min     1.600000  1999.000000   4.000000   9.000000  12.000000      10.285714\n",
       "25%     2.000000  1999.000000   4.000000  15.000000  23.000000      18.461538\n",
       "50%     2.500000  1999.000000   4.000000  18.000000  26.000000      21.590909\n",
       "75%     3.500000  2008.000000   6.000000  21.000000  29.000000      24.360000\n",
       "max     7.000000  2008.000000   8.000000  35.000000  44.000000      38.987342"
      ]
     },
     "execution_count": 126,
     "metadata": {},
     "output_type": "execute_result"
    }
   ],
   "source": [
    "#Null hypothesis:   manual.harmonic_mean <= automatic.harmonic_mean\n",
    "#Alternative Hypothesis:  manual.harmonic_mean > automatic.harmonic_mean\n",
    "#α < .05 one tailed\n",
    "manual = mpg[mpg.trans.str.contains('manual')]\n",
    "manual.describe()"
   ]
  },
  {
   "cell_type": "code",
   "execution_count": 69,
   "id": "beedd869",
   "metadata": {},
   "outputs": [
    {
     "data": {
      "text/html": [
       "<div>\n",
       "<style scoped>\n",
       "    .dataframe tbody tr th:only-of-type {\n",
       "        vertical-align: middle;\n",
       "    }\n",
       "\n",
       "    .dataframe tbody tr th {\n",
       "        vertical-align: top;\n",
       "    }\n",
       "\n",
       "    .dataframe thead th {\n",
       "        text-align: right;\n",
       "    }\n",
       "</style>\n",
       "<table border=\"1\" class=\"dataframe\">\n",
       "  <thead>\n",
       "    <tr style=\"text-align: right;\">\n",
       "      <th></th>\n",
       "      <th>displ</th>\n",
       "      <th>year</th>\n",
       "      <th>cyl</th>\n",
       "      <th>cty</th>\n",
       "      <th>hwy</th>\n",
       "      <th>harmonic_mean</th>\n",
       "    </tr>\n",
       "  </thead>\n",
       "  <tbody>\n",
       "    <tr>\n",
       "      <th>count</th>\n",
       "      <td>157.000000</td>\n",
       "      <td>157.000000</td>\n",
       "      <td>157.000000</td>\n",
       "      <td>157.000000</td>\n",
       "      <td>157.000000</td>\n",
       "      <td>157.000000</td>\n",
       "    </tr>\n",
       "    <tr>\n",
       "      <th>mean</th>\n",
       "      <td>3.719745</td>\n",
       "      <td>2003.757962</td>\n",
       "      <td>6.203822</td>\n",
       "      <td>15.968153</td>\n",
       "      <td>22.292994</td>\n",
       "      <td>18.583200</td>\n",
       "    </tr>\n",
       "    <tr>\n",
       "      <th>std</th>\n",
       "      <td>1.272210</td>\n",
       "      <td>4.506976</td>\n",
       "      <td>1.584131</td>\n",
       "      <td>3.848777</td>\n",
       "      <td>5.623054</td>\n",
       "      <td>4.519765</td>\n",
       "    </tr>\n",
       "    <tr>\n",
       "      <th>min</th>\n",
       "      <td>1.600000</td>\n",
       "      <td>1999.000000</td>\n",
       "      <td>4.000000</td>\n",
       "      <td>9.000000</td>\n",
       "      <td>12.000000</td>\n",
       "      <td>10.285714</td>\n",
       "    </tr>\n",
       "    <tr>\n",
       "      <th>25%</th>\n",
       "      <td>2.500000</td>\n",
       "      <td>1999.000000</td>\n",
       "      <td>4.000000</td>\n",
       "      <td>13.000000</td>\n",
       "      <td>17.000000</td>\n",
       "      <td>14.733333</td>\n",
       "    </tr>\n",
       "    <tr>\n",
       "      <th>50%</th>\n",
       "      <td>3.800000</td>\n",
       "      <td>2008.000000</td>\n",
       "      <td>6.000000</td>\n",
       "      <td>16.000000</td>\n",
       "      <td>22.000000</td>\n",
       "      <td>18.526316</td>\n",
       "    </tr>\n",
       "    <tr>\n",
       "      <th>75%</th>\n",
       "      <td>4.700000</td>\n",
       "      <td>2008.000000</td>\n",
       "      <td>8.000000</td>\n",
       "      <td>18.000000</td>\n",
       "      <td>26.000000</td>\n",
       "      <td>21.955556</td>\n",
       "    </tr>\n",
       "    <tr>\n",
       "      <th>max</th>\n",
       "      <td>6.500000</td>\n",
       "      <td>2008.000000</td>\n",
       "      <td>8.000000</td>\n",
       "      <td>29.000000</td>\n",
       "      <td>41.000000</td>\n",
       "      <td>33.971429</td>\n",
       "    </tr>\n",
       "  </tbody>\n",
       "</table>\n",
       "</div>"
      ],
      "text/plain": [
       "            displ         year         cyl         cty         hwy  \\\n",
       "count  157.000000   157.000000  157.000000  157.000000  157.000000   \n",
       "mean     3.719745  2003.757962    6.203822   15.968153   22.292994   \n",
       "std      1.272210     4.506976    1.584131    3.848777    5.623054   \n",
       "min      1.600000  1999.000000    4.000000    9.000000   12.000000   \n",
       "25%      2.500000  1999.000000    4.000000   13.000000   17.000000   \n",
       "50%      3.800000  2008.000000    6.000000   16.000000   22.000000   \n",
       "75%      4.700000  2008.000000    8.000000   18.000000   26.000000   \n",
       "max      6.500000  2008.000000    8.000000   29.000000   41.000000   \n",
       "\n",
       "       harmonic_mean  \n",
       "count     157.000000  \n",
       "mean       18.583200  \n",
       "std         4.519765  \n",
       "min        10.285714  \n",
       "25%        14.733333  \n",
       "50%        18.526316  \n",
       "75%        21.955556  \n",
       "max        33.971429  "
      ]
     },
     "execution_count": 69,
     "metadata": {},
     "output_type": "execute_result"
    }
   ],
   "source": [
    "automatic = mpg[mpg.trans.str.contains('auto')]\n",
    "automatic.describe()"
   ]
  },
  {
   "cell_type": "code",
   "execution_count": 71,
   "id": "7febe0ac",
   "metadata": {},
   "outputs": [
    {
     "data": {
      "text/plain": [
       "(0.013901207169738269, 0.9062462281015493)"
      ]
     },
     "execution_count": 71,
     "metadata": {},
     "output_type": "execute_result"
    }
   ],
   "source": [
    "# Mini H0: variances are equal between groups\n",
    "# Ha: variances are inequal between groups\n",
    "# alpha: 0.05\n",
    "stat, pval = stats.levene(manual.harmonic_mean, automatic.harmonic_mean)\n",
    "stat, pval #accept mini H0"
   ]
  },
  {
   "cell_type": "code",
   "execution_count": 72,
   "id": "1bc3dd9b",
   "metadata": {},
   "outputs": [],
   "source": [
    "t, p = stats.ttest_ind(manual.harmonic_mean, automatic.harmonic_mean, equal_var=True)"
   ]
  },
  {
   "cell_type": "code",
   "execution_count": 73,
   "id": "a8b582ce",
   "metadata": {},
   "outputs": [
    {
     "data": {
      "text/plain": [
       "(4.652577547151351, 5.510464610044005e-06)"
      ]
     },
     "execution_count": 73,
     "metadata": {},
     "output_type": "execute_result"
    }
   ],
   "source": [
    "t, p"
   ]
  },
  {
   "cell_type": "code",
   "execution_count": null,
   "id": "8d07c948",
   "metadata": {},
   "outputs": [],
   "source": [
    "#There is significant evidence to reject the null hypothesis and show that the data suggests a difference between the manuyal an automatic transmissions"
   ]
  },
  {
   "cell_type": "markdown",
   "id": "6091e437",
   "metadata": {},
   "source": [
    "# Correlation"
   ]
  },
  {
   "cell_type": "code",
   "execution_count": null,
   "id": "bce85a31",
   "metadata": {},
   "outputs": [],
   "source": []
  }
 ],
 "metadata": {
  "kernelspec": {
   "display_name": "Python 3 (ipykernel)",
   "language": "python",
   "name": "python3"
  },
  "language_info": {
   "codemirror_mode": {
    "name": "ipython",
    "version": 3
   },
   "file_extension": ".py",
   "mimetype": "text/x-python",
   "name": "python",
   "nbconvert_exporter": "python",
   "pygments_lexer": "ipython3",
   "version": "3.10.9"
  }
 },
 "nbformat": 4,
 "nbformat_minor": 5
}
